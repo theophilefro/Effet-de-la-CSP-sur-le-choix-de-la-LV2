{
 "cells": [
  {
   "cell_type": "markdown",
   "metadata": {
    "id": "p1U4ZWe-R4ck"
   },
   "source": [
    "**Dans quelles mesures l'origine sociale est un déterminant du choix des langues au collège ?**\n",
    "\n",
    "*Julia Nicolas, Théophile Froment*\n"
   ]
  },
  {
   "cell_type": "markdown",
   "metadata": {
    "id": "-5Udtf2wTWiA"
   },
   "source": [
    "Nous étudions les collèges qui existent depuis 2005 et sont encore existants en 2018. L'objectif de ce travail est de s'intéresser au choix de la langue vivante en quatrième. La question est de savoir : Dans quelles mesures l'origine sociale est un déterminant du choix des langues au collège ? "
   ]
  },
  {
   "cell_type": "code",
   "execution_count": 1,
   "metadata": {
    "colab": {
     "base_uri": "https://localhost:8080/"
    },
    "id": "sov5qKlr17R3",
    "outputId": "d1367bb3-2474-4059-a440-12e6c948489a"
   },
   "outputs": [
    {
     "name": "stderr",
     "output_type": "stream",
     "text": [
      "/usr/local/lib/python3.7/dist-packages/statsmodels/tools/_testing.py:19: FutureWarning: pandas.util.testing is deprecated. Use the functions in the public API at pandas.testing instead.\n",
      "  import pandas.util.testing as tm\n"
     ]
    }
   ],
   "source": [
    "import pandas as pd\n",
    "import numpy as np \n",
    "import matplotlib.pyplot as plt\n",
    "import xlrd\n",
    "import seaborn as sns\n",
    "import statsmodels.api as sm"
   ]
  },
  {
   "cell_type": "code",
   "execution_count": 2,
   "metadata": {
    "colab": {
     "base_uri": "https://localhost:8080/"
    },
    "id": "WCwVyRvm2M1F",
    "outputId": "cd63e8c0-e8d5-4c6e-efcd-16e1779b202d"
   },
   "outputs": [
    {
     "name": "stdout",
     "output_type": "stream",
     "text": [
      "Mounted at /content/drive\n"
     ]
    }
   ],
   "source": [
    "from google.colab import drive\n",
    "drive.mount('/content/drive')"
   ]
  },
  {
   "cell_type": "markdown",
   "metadata": {
    "id": "ZUks4s-g3DZ0"
   },
   "source": [
    "# Import des bases élèves"
   ]
  },
  {
   "cell_type": "code",
   "execution_count": 3,
   "metadata": {
    "colab": {
     "base_uri": "https://localhost:8080/"
    },
    "id": "wTw1uUau2QPa",
    "outputId": "62ac40e2-18d1-43f6-841a-f0245af2ab8c"
   },
   "outputs": [
    {
     "name": "stderr",
     "output_type": "stream",
     "text": [
      "/usr/local/lib/python3.7/dist-packages/IPython/core/interactiveshell.py:2882: DtypeWarning: Columns (11,21) have mixed types.Specify dtype option on import or set low_memory=False.\n",
      "  exec(code_obj, self.user_global_ns, self.user_ns)\n"
     ]
    }
   ],
   "source": [
    "elev05 = pd.read_csv(\"/content/drive/MyDrive/PDSS/communsannees/elevs/elev05.csv\", delimiter=\",\")  "
   ]
  },
  {
   "cell_type": "code",
   "execution_count": 4,
   "metadata": {
    "colab": {
     "base_uri": "https://localhost:8080/"
    },
    "id": "2Va3fR-Q2ngl",
    "outputId": "f647d01d-3bf0-4e04-f038-c183967ad882"
   },
   "outputs": [
    {
     "name": "stderr",
     "output_type": "stream",
     "text": [
      "/usr/local/lib/python3.7/dist-packages/IPython/core/interactiveshell.py:2882: DtypeWarning: Columns (11,21) have mixed types.Specify dtype option on import or set low_memory=False.\n",
      "  exec(code_obj, self.user_global_ns, self.user_ns)\n"
     ]
    }
   ],
   "source": [
    "elev06 = pd.read_csv(\"/content/drive/MyDrive/PDSS/communsannees/elevs/elev06.csv\", delimiter=\",\")  \n",
    "elev07 = pd.read_csv(\"/content/drive/MyDrive/PDSS/communsannees/elevs/elev07.csv\", delimiter=\",\")  \n",
    "elev08 = pd.read_csv(\"/content/drive/MyDrive/PDSS/communsannees/elevs/elev08.csv\", delimiter=\",\") \n",
    "elev09 = pd.read_csv(\"/content/drive/MyDrive/PDSS/communsannees/elevs/elev09.csv\", delimiter=\",\")  \n",
    "elev10 = pd.read_csv(\"/content/drive/MyDrive/PDSS/communsannees/elevs/elev10.csv\", delimiter=\",\")  \n",
    "elev11 = pd.read_csv(\"/content/drive/MyDrive/PDSS/communsannees/elevs/elev11.csv\", delimiter=\",\")  \n",
    "elev12 = pd.read_csv(\"/content/drive/MyDrive/PDSS/communsannees/elevs/elev12.csv\", delimiter=\",\")  \n",
    "elev13 = pd.read_csv(\"/content/drive/MyDrive/PDSS/communsannees/elevs/elev13.csv\", delimiter=\",\")  "
   ]
  },
  {
   "cell_type": "code",
   "execution_count": 5,
   "metadata": {
    "colab": {
     "base_uri": "https://localhost:8080/"
    },
    "id": "YalCparx25tW",
    "outputId": "ae48e270-96d5-462e-dea1-d8f4c12df8de"
   },
   "outputs": [
    {
     "name": "stderr",
     "output_type": "stream",
     "text": [
      "/usr/local/lib/python3.7/dist-packages/IPython/core/interactiveshell.py:2882: DtypeWarning: Columns (11,21) have mixed types.Specify dtype option on import or set low_memory=False.\n",
      "  exec(code_obj, self.user_global_ns, self.user_ns)\n",
      "/usr/local/lib/python3.7/dist-packages/IPython/core/interactiveshell.py:2882: DtypeWarning: Columns (21) have mixed types.Specify dtype option on import or set low_memory=False.\n",
      "  exec(code_obj, self.user_global_ns, self.user_ns)\n",
      "/usr/local/lib/python3.7/dist-packages/IPython/core/interactiveshell.py:2882: DtypeWarning: Columns (11) have mixed types.Specify dtype option on import or set low_memory=False.\n",
      "  exec(code_obj, self.user_global_ns, self.user_ns)\n"
     ]
    }
   ],
   "source": [
    "elev14 = pd.read_csv(\"/content/drive/MyDrive/PDSS/communsannees/elevs/elev14.csv\", delimiter=\",\")  \n",
    "elev15 = pd.read_csv(\"/content/drive/MyDrive/PDSS/communsannees/elevs/elev15.csv\", delimiter=\",\")  \n",
    "elev16 = pd.read_csv(\"/content/drive/MyDrive/PDSS/communsannees/elevs/elev16.csv\", delimiter=\",\")  \n",
    "elev17 = pd.read_csv(\"/content/drive/MyDrive/PDSS/communsannees/elevs/elev17.csv\", delimiter=\",\")  \n",
    "elev18 = pd.read_csv(\"/content/drive/MyDrive/PDSS/communsannees/elevs/elev18.csv\", delimiter=\",\")  "
   ]
  },
  {
   "cell_type": "markdown",
   "metadata": {
    "id": "aojr7KEI3F5V"
   },
   "source": [
    "# Import des bases etab"
   ]
  },
  {
   "cell_type": "code",
   "execution_count": 6,
   "metadata": {
    "id": "ExXa6tJv3CB6"
   },
   "outputs": [],
   "source": [
    "etab05 = pd.read_csv(\"/content/drive/MyDrive/PDSS/communsannees/etabs/etab05.csv\", delimiter=\",\")  \n",
    "etab06 = pd.read_csv(\"/content/drive/MyDrive/PDSS/communsannees/etabs/etab06.csv\", delimiter=\",\")  \n",
    "etab07 = pd.read_csv(\"/content/drive/MyDrive/PDSS/communsannees/etabs/etab07.csv\", delimiter=\",\")  \n",
    "etab08 = pd.read_csv(\"/content/drive/MyDrive/PDSS/communsannees/etabs/etab08.csv\", delimiter=\",\")  \n",
    "etab09 = pd.read_csv(\"/content/drive/MyDrive/PDSS/communsannees/etabs/etab09.csv\", delimiter=\",\")  \n",
    "etab10 = pd.read_csv(\"/content/drive/MyDrive/PDSS/communsannees/etabs/etab10.csv\", delimiter=\",\")  \n",
    "etab11 = pd.read_csv(\"/content/drive/MyDrive/PDSS/communsannees/etabs/etab11.csv\", delimiter=\",\")  \n",
    "etab12 = pd.read_csv(\"/content/drive/MyDrive/PDSS/communsannees/etabs/etab12.csv\", delimiter=\",\")  \n",
    "etab13 = pd.read_csv(\"/content/drive/MyDrive/PDSS/communsannees/etabs/etab13.csv\", delimiter=\",\")  \n",
    "etab14 = pd.read_csv(\"/content/drive/MyDrive/PDSS/communsannees/etabs/etab14.csv\", delimiter=\",\")  \n",
    "etab15 = pd.read_csv(\"/content/drive/MyDrive/PDSS/communsannees/etabs/etab15.csv\", delimiter=\",\")  \n",
    "etab16 = pd.read_csv(\"/content/drive/MyDrive/PDSS/communsannees/etabs/etab16.csv\", delimiter=\",\")  \n",
    "etab17 = pd.read_csv(\"/content/drive/MyDrive/PDSS/communsannees/etabs/etab17.csv\", delimiter=\",\")  \n",
    "etab18 = pd.read_csv(\"/content/drive/MyDrive/PDSS/communsannees/etabs/etab18.csv\", delimiter=\",\") "
   ]
  },
  {
   "cell_type": "markdown",
   "metadata": {
    "id": "r3zZ7pTYkzFR"
   },
   "source": [
    "# Sur l'ensemble des années, quelle représentation dans les langues en île de france ? "
   ]
  },
  {
   "cell_type": "code",
   "execution_count": 7,
   "metadata": {
    "id": "33rcjqADgm8_"
   },
   "outputs": [],
   "source": [
    "elevs_tot = pd.concat([elev05,elev06,elev07,elev08,elev09,elev10,elev11,elev12,elev13,elev14,elev15,elev16,elev17,elev18],ignore_index = True)"
   ]
  },
  {
   "cell_type": "code",
   "execution_count": 8,
   "metadata": {
    "id": "onk0woFPlPhC"
   },
   "outputs": [],
   "source": [
    "lv2_csp_tot = {}\n",
    "for lv2 in list(elevs_tot['LV2'].unique()) :\n",
    "  df = elevs_tot[elevs_tot['LV2'] == lv2]\n",
    "  L = list(df['csp+?'])\n",
    "  lv2_csp_tot[lv2] = sum(L)/len(L)"
   ]
  },
  {
   "cell_type": "code",
   "execution_count": 9,
   "metadata": {
    "id": "twRAYKwPoey7"
   },
   "outputs": [],
   "source": [
    "colonnecsp = list(elevs_tot['csp+?'])"
   ]
  },
  {
   "cell_type": "code",
   "execution_count": 10,
   "metadata": {
    "id": "gce6sYnWpBHl"
   },
   "outputs": [],
   "source": [
    "taux_csp_total = sum(colonnecsp) / len(colonnecsp)"
   ]
  },
  {
   "cell_type": "code",
   "execution_count": 11,
   "metadata": {
    "colab": {
     "base_uri": "https://localhost:8080/"
    },
    "id": "tvvX1ZlJpGox",
    "outputId": "c3dd204a-d4ab-426c-fd1b-c06dd4c66ab6"
   },
   "outputs": [
    {
     "data": {
      "text/plain": [
       "0.4588128798933096"
      ]
     },
     "execution_count": 11,
     "metadata": {},
     "output_type": "execute_result"
    }
   ],
   "source": [
    "taux_csp_total"
   ]
  },
  {
   "cell_type": "code",
   "execution_count": 12,
   "metadata": {
    "colab": {
     "base_uri": "https://localhost:8080/"
    },
    "id": "uXlXerwknhlF",
    "outputId": "0770acfb-2a99-49fe-b743-f85eabc51d5e",
    "scrolled": true
   },
   "outputs": [
    {
     "data": {
      "text/plain": [
       "{'ALBANAIS': 1.0,\n",
       " 'ALLEMAND': 0.5552816114118161,\n",
       " 'ANGLAIS': 0.5815669705326939,\n",
       " 'ARABE': 0.18983700862895495,\n",
       " 'ARMENIEN': 0.5958005249343832,\n",
       " 'AUVERGNAT': 0.14285714285714285,\n",
       " 'CHINOIS': 0.6207523915722754,\n",
       " 'COREEN': 0.46601941747572817,\n",
       " 'ESPAGNOL': 0.42393334646265984,\n",
       " 'FINNOIS': 0.0,\n",
       " 'GALLO': 0.12162162162162163,\n",
       " 'GREC': 1.0,\n",
       " 'HEBREU': 0.6770199027340716,\n",
       " 'ITALIEN': 0.48209157060982677,\n",
       " 'JAPONAIS': 0.7387033398821218,\n",
       " 'MELANESIEN': 0.125,\n",
       " 'ML.PAICI': 0.17647058823529413,\n",
       " 'OPT380': 0.22275258552108193,\n",
       " 'OPT397': 0.35990888382687924,\n",
       " 'PERSAN': 1.0,\n",
       " 'POLONAIS': 0.2222222222222222,\n",
       " 'PORTUGAIS': 0.27858593621342703,\n",
       " 'PROVENCAL': 0.48484848484848486,\n",
       " 'RUSSE': 0.8113827070412258,\n",
       " 'SUEDOIS': 1.0,\n",
       " 'TURC': 1.0,\n",
       " 'VIETNAMIEN': 0.8603351955307262}"
      ]
     },
     "execution_count": 12,
     "metadata": {},
     "output_type": "execute_result"
    }
   ],
   "source": [
    "lv2_csp_tot"
   ]
  },
  {
   "cell_type": "code",
   "execution_count": 13,
   "metadata": {
    "colab": {
     "base_uri": "https://localhost:8080/",
     "height": 483
    },
    "id": "Sv1aMc-cnqLl",
    "outputId": "11a4698c-d17f-487c-9be6-1fc3ead0d10d"
   },
   "outputs": [
    {
     "data": {
      "image/png": "[encoded data removed]",
      "text/plain": [
       "<Figure size 720x576 with 1 Axes>"
      ]
     },
     "metadata": {
      "needs_background": "light"
     },
     "output_type": "display_data"
    }
   ],
   "source": [
    "fig = plt.figure(1, figsize=(10, 8))\n",
    "Categories = list(reversed([\"TOTAL\",\"ANGLAIS\",\"ALLEMAND\",\"ESPAGNOL\",\"ITALIEN\",\"CHINOIS\",\"JAPONAIS\",\"ARABE\",\"RUSSE\",\"PORTUGAIS\"]))\n",
    "taux_csp = list(reversed([taux_csp_total,lv2_csp_tot['ANGLAIS'],lv2_csp_tot['ALLEMAND'],lv2_csp_tot['ESPAGNOL'],lv2_csp_tot['ITALIEN'],lv2_csp_tot['CHINOIS'],\n",
    "            lv2_csp_tot['JAPONAIS'],lv2_csp_tot['ARABE'],lv2_csp_tot['RUSSE'],lv2_csp_tot['PORTUGAIS']]))\n",
    "#nb_categories = len(Categories)\n",
    "#x1  = range(len(taux_csp))\n",
    "plt.barh(Categories, taux_csp,color = 'blue', edgecolor = 'black', linewidth = 2)\n",
    "plt.show()\n"
   ]
  },
  {
   "cell_type": "code",
   "execution_count": 14,
   "metadata": {
    "id": "s9VDcPgUcj3x"
   },
   "outputs": [],
   "source": [
    "repartition_LV1 = elevs_tot['LV1'].value_counts()"
   ]
  },
  {
   "cell_type": "code",
   "execution_count": 15,
   "metadata": {
    "colab": {
     "base_uri": "https://localhost:8080/"
    },
    "id": "m1q5pMklclo2",
    "outputId": "ec9aa0d3-763a-4555-8b14-cb3f178eaa46",
    "scrolled": true
   },
   "outputs": [
    {
     "data": {
      "text/plain": [
       "ANGLAIS       4275323\n",
       "ALLEMAND       341255\n",
       "ESPAGNOL        10742\n",
       "RUSSE            7503\n",
       "ITALIEN          5311\n",
       "CHINOIS          3853\n",
       "PORTUGAIS        3823\n",
       "ARABE            2100\n",
       "POLONAIS          844\n",
       "JAPONAIS          499\n",
       "SUEDOIS           206\n",
       "NEERLAND.         204\n",
       "ARMENIEN           71\n",
       "VIETNAMIEN         71\n",
       "DANOIS             68\n",
       "NORVEGIEN          68\n",
       "OPT380             18\n",
       "COREEN              5\n",
       "Name: LV1, dtype: int64"
      ]
     },
     "execution_count": 15,
     "metadata": {},
     "output_type": "execute_result"
    }
   ],
   "source": [
    "repartition_LV1"
   ]
  },
  {
   "cell_type": "code",
   "execution_count": 16,
   "metadata": {
    "colab": {
     "base_uri": "https://localhost:8080/",
     "height": 339
    },
    "id": "9RMxNY98iuGP",
    "outputId": "72a94d49-5516-41d2-983f-39e52c974c68"
   },
   "outputs": [
    {
     "data": {
      "text/plain": [
       "<matplotlib.axes._subplots.AxesSubplot at 0x7f0f2cbf2dd0>"
      ]
     },
     "execution_count": 16,
     "metadata": {},
     "output_type": "execute_result"
    },
    {
     "data": {
      "image/png": "[encoded data removed]",
      "text/plain": [
       "<Figure size 432x288 with 1 Axes>"
      ]
     },
     "metadata": {
      "needs_background": "light"
     },
     "output_type": "display_data"
    }
   ],
   "source": [
    "repartition_LV1[0:3].plot(kind = 'bar')"
   ]
  },
  {
   "cell_type": "code",
   "execution_count": 17,
   "metadata": {
    "id": "DlonqvpIiOfb"
   },
   "outputs": [],
   "source": [
    "repartition_LV2 = elevs_tot['LV2'].value_counts()"
   ]
  },
  {
   "cell_type": "code",
   "execution_count": 18,
   "metadata": {
    "colab": {
     "base_uri": "https://localhost:8080/",
     "height": 339
    },
    "id": "mm7Cey4MiSYI",
    "outputId": "859cd404-a581-4d04-d7c2-2ec9c1984968"
   },
   "outputs": [
    {
     "data": {
      "text/plain": [
       "<matplotlib.axes._subplots.AxesSubplot at 0x7f0f2cb08510>"
      ]
     },
     "execution_count": 18,
     "metadata": {},
     "output_type": "execute_result"
    },
    {
     "data": {
      "image/png": "[encoded data removed]",
      "text/plain": [
       "<Figure size 432x288 with 1 Axes>"
      ]
     },
     "metadata": {
      "needs_background": "light"
     },
     "output_type": "display_data"
    }
   ],
   "source": [
    "repartition_LV2[0:5].plot(kind = 'bar')"
   ]
  },
  {
   "cell_type": "markdown",
   "metadata": {
    "id": "XurkMEeS4oI2"
   },
   "source": [
    "# CSP"
   ]
  },
  {
   "cell_type": "markdown",
   "metadata": {
    "id": "fBBZBZMX47SU"
   },
   "source": [
    "## Calculons par établissement, chaque année le taux de CSP+"
   ]
  },
  {
   "cell_type": "code",
   "execution_count": 19,
   "metadata": {
    "id": "hCuAm8TH3q10"
   },
   "outputs": [],
   "source": [
    "num_etabs = list(etab05['NUM_ETAB'].unique()) # Liste de l'ensemble des collèges"
   ]
  },
  {
   "cell_type": "markdown",
   "metadata": {
    "id": "VZjQFAD3URY3"
   },
   "source": [
    "On concatène l'ensemble des élèves sur toutes les années, en les différenciant avec leur année d'étude.  "
   ]
  },
  {
   "cell_type": "code",
   "execution_count": 20,
   "metadata": {
    "id": "MFxo7a6Uu2Hu"
   },
   "outputs": [],
   "source": [
    "elev05['année'] = ['2005' for i in range(0,len(elev05))]\n",
    "elev06['année'] = ['2006' for i in range(0,len(elev06))]\n",
    "elev07['année'] = ['2007' for i in range(0,len(elev07))]\n",
    "elev08['année'] = ['2008' for i in range(0,len(elev08))]\n",
    "elev09['année'] = ['2009' for i in range(0,len(elev09))]\n",
    "elev10['année'] = ['2010' for i in range(0,len(elev10))]\n",
    "elev11['année'] = ['2011' for i in range(0,len(elev11))]\n",
    "elev12['année'] = ['2012' for i in range(0,len(elev12))]\n",
    "elev13['année'] = ['2013' for i in range(0,len(elev13))]\n",
    "elev14['année'] = ['2014' for i in range(0,len(elev14))]\n",
    "elev15['année'] = ['2015' for i in range(0,len(elev15))]\n",
    "elev16['année'] = ['2016' for i in range(0,len(elev16))]\n",
    "elev17['année'] = ['2017' for i in range(0,len(elev17))]\n",
    "elev18['année'] = ['2018' for i in range(0,len(elev18))]"
   ]
  },
  {
   "cell_type": "code",
   "execution_count": 21,
   "metadata": {
    "id": "A1hvpGWYvTH6"
   },
   "outputs": [],
   "source": [
    "elev05_ = elev05[['NUM_ETAB', 'csp+?', 'année','LV1', 'LV2']]\n",
    "elev06_ = elev06[['NUM_ETAB', 'csp+?', 'année','LV1', 'LV2']]\n",
    "elev07_ = elev07[['NUM_ETAB', 'csp+?', 'année','LV1', 'LV2']]\n",
    "elev08_ = elev08[['NUM_ETAB', 'csp+?', 'année','LV1', 'LV2']]\n",
    "elev09_ = elev09[['NUM_ETAB', 'csp+?', 'année','LV1', 'LV2']]\n",
    "elev10_ = elev10[['NUM_ETAB', 'csp+?', 'année','LV1', 'LV2']]\n",
    "elev11_ = elev11[['NUM_ETAB', 'csp+?', 'année','LV1', 'LV2']]\n",
    "elev12_ = elev12[['NUM_ETAB', 'csp+?', 'année','LV1', 'LV2']]\n",
    "elev13_ = elev13[['NUM_ETAB', 'csp+?', 'année','LV1', 'LV2']]\n",
    "elev14_ = elev14[['NUM_ETAB', 'csp+?', 'année','LV1', 'LV2']]\n",
    "elev15_ = elev15[['NUM_ETAB', 'csp+?', 'année','LV1', 'LV2']]\n",
    "elev16_ = elev16[['NUM_ETAB', 'csp+?', 'année','LV1', 'LV2']]\n",
    "elev17_ = elev17[['NUM_ETAB', 'csp+?', 'année','LV1', 'LV2']]\n",
    "elev18_ = elev18[['NUM_ETAB', 'csp+?', 'année','LV1', 'LV2']]"
   ]
  },
  {
   "cell_type": "markdown",
   "metadata": {
    "id": "_qwllBfjVDCh"
   },
   "source": [
    "On regarde premièrement l'évolution du taux de CSP+ dans le collège en général. "
   ]
  },
  {
   "cell_type": "code",
   "execution_count": 22,
   "metadata": {
    "id": "b_V5_L3TwKXY"
   },
   "outputs": [],
   "source": [
    "elevs_ = pd.concat([elev05_,elev06_,elev07_,elev08_,elev09_,elev10_,elev11_,elev12_,elev13_,elev14_,elev15_,elev16_,elev17_,elev18_],ignore_index = True)"
   ]
  },
  {
   "cell_type": "code",
   "execution_count": 23,
   "metadata": {
    "id": "5GNj5pLrxUtG"
   },
   "outputs": [],
   "source": [
    "elevscsp = elevs_[['NUM_ETAB', 'année', 'csp+?']]"
   ]
  },
  {
   "cell_type": "code",
   "execution_count": 24,
   "metadata": {
    "id": "cvLpOr6iEFip"
   },
   "outputs": [],
   "source": [
    "csp_annees = {}"
   ]
  },
  {
   "cell_type": "code",
   "execution_count": 25,
   "metadata": {
    "id": "yArbVQwfEA5Z"
   },
   "outputs": [],
   "source": [
    "tableau = elev05_.groupby(by= [\"NUM_ETAB\"]).mean().reset_index()\n",
    "for i in range(0,len(tableau)) : \n",
    "  csp_annees[tableau['NUM_ETAB'][i]] = {}\n",
    "  csp_annees[tableau['NUM_ETAB'][i]]['2005'] = tableau['csp+?'][i]"
   ]
  },
  {
   "cell_type": "code",
   "execution_count": 26,
   "metadata": {
    "id": "QHnj1l1PEkAI"
   },
   "outputs": [],
   "source": [
    "tableaubis = elev06_.groupby(by= [\"NUM_ETAB\"]).mean().reset_index()\n",
    "for i in range(0,len(tableaubis)) : \n",
    "  csp_annees[tableaubis['NUM_ETAB'][i]]['2006'] = tableaubis['csp+?'][i]\n",
    "\n",
    "tableaubis = elev07_.groupby(by= [\"NUM_ETAB\"]).mean().reset_index()\n",
    "for i in range(0,len(tableaubis)) : \n",
    "  csp_annees[tableaubis['NUM_ETAB'][i]]['2007'] = tableaubis['csp+?'][i]\n",
    "\n",
    "tableaubis = elev08_.groupby(by= [\"NUM_ETAB\"]).mean().reset_index()\n",
    "for i in range(0,len(tableaubis)) : \n",
    "  csp_annees[tableaubis['NUM_ETAB'][i]]['2008'] = tableaubis['csp+?'][i]\n",
    "\n",
    "tableaubis = elev09_.groupby(by= [\"NUM_ETAB\"]).mean().reset_index()\n",
    "for i in range(0,len(tableaubis)) : \n",
    "  csp_annees[tableaubis['NUM_ETAB'][i]]['2009'] = tableaubis['csp+?'][i]\n",
    "\n",
    "tableaubis = elev10_.groupby(by= [\"NUM_ETAB\"]).mean().reset_index()\n",
    "for i in range(0,len(tableaubis)) : \n",
    "  csp_annees[tableaubis['NUM_ETAB'][i]]['2010'] = tableaubis['csp+?'][i]\n",
    "\n",
    "tableaubis = elev11_.groupby(by= [\"NUM_ETAB\"]).mean().reset_index()\n",
    "for i in range(0,len(tableaubis)) : \n",
    "  csp_annees[tableaubis['NUM_ETAB'][i]]['2011'] = tableaubis['csp+?'][i]\n",
    "\n",
    "tableaubis = elev12_.groupby(by= [\"NUM_ETAB\"]).mean().reset_index()\n",
    "for i in range(0,len(tableaubis)) : \n",
    "  csp_annees[tableaubis['NUM_ETAB'][i]]['2012'] = tableaubis['csp+?'][i]\n",
    "\n",
    "tableaubis = elev13_.groupby(by= [\"NUM_ETAB\"]).mean().reset_index()\n",
    "for i in range(0,len(tableaubis)) : \n",
    "  csp_annees[tableaubis['NUM_ETAB'][i]]['2013'] = tableaubis['csp+?'][i]\n",
    "\n",
    "tableaubis = elev14_.groupby(by= [\"NUM_ETAB\"]).mean().reset_index()\n",
    "for i in range(0,len(tableaubis)) : \n",
    "  csp_annees[tableaubis['NUM_ETAB'][i]]['2014'] = tableaubis['csp+?'][i]\n",
    "\n",
    "tableaubis = elev15_.groupby(by= [\"NUM_ETAB\"]).mean().reset_index()\n",
    "for i in range(0,len(tableaubis)) : \n",
    "  csp_annees[tableaubis['NUM_ETAB'][i]]['2015'] = tableaubis['csp+?'][i]\n",
    "\n",
    "tableaubis = elev16_.groupby(by= [\"NUM_ETAB\"]).mean().reset_index()\n",
    "for i in range(0,len(tableaubis)) : \n",
    "  csp_annees[tableaubis['NUM_ETAB'][i]]['2016'] = tableaubis['csp+?'][i]\n",
    "\n",
    "tableaubis = elev17_.groupby(by= [\"NUM_ETAB\"]).mean().reset_index()\n",
    "for i in range(0,len(tableaubis)) : \n",
    "  csp_annees[tableaubis['NUM_ETAB'][i]]['2017'] = tableaubis['csp+?'][i]\n",
    "\n",
    "tableaubis = elev18_.groupby(by= [\"NUM_ETAB\"]).mean().reset_index()\n",
    "for i in range(0,len(tableaubis)) : \n",
    "  csp_annees[tableaubis['NUM_ETAB'][i]]['2018'] = tableaubis['csp+?'][i]\n"
   ]
  },
  {
   "cell_type": "markdown",
   "metadata": {
    "id": "6akSUNAQVk7h"
   },
   "source": [
    "On obtient le dictionnaire suivant : pour chaque établissement, on a le taux de CSP+ dans l'établissement chaque année. "
   ]
  },
  {
   "cell_type": "code",
   "execution_count": 27,
   "metadata": {
    "colab": {
     "base_uri": "https://localhost:8080/"
    },
    "id": "nYC3tZM5FZrA",
    "outputId": "9b304380-2344-4a8b-c8d8-acedd633f601"
   },
   "outputs": [
    {
     "data": {
      "text/plain": [
       "{'2005': 0.868421052631579,\n",
       " '2006': 0.8551724137931035,\n",
       " '2007': 0.8741258741258742,\n",
       " '2008': 0.8888888888888888,\n",
       " '2009': 0.8963210702341137,\n",
       " '2010': 0.8798701298701299,\n",
       " '2011': 0.8262295081967214,\n",
       " '2012': 0.79,\n",
       " '2013': 0.8271186440677966,\n",
       " '2014': 0.8178694158075601,\n",
       " '2015': 0.8074324324324325,\n",
       " '2016': 0.7973856209150327,\n",
       " '2017': 0.8225108225108225,\n",
       " '2018': 0.8599137931034483}"
      ]
     },
     "execution_count": 27,
     "metadata": {},
     "output_type": "execute_result"
    }
   ],
   "source": [
    "csp_annees['0752906B'] # Évolution du taux de CSP+ dans les différents établissements"
   ]
  },
  {
   "cell_type": "markdown",
   "metadata": {
    "id": "peRKh8lWGvqp"
   },
   "source": [
    "Plusieurs types de dynamiques semblent exister : on va se placer dans les collèges où le taux de CSP+ n'a pas beaucoup évolué au long des années, dans le but de regarder l'évolution dans les différentes LV2. "
   ]
  },
  {
   "cell_type": "code",
   "execution_count": 28,
   "metadata": {
    "id": "tctdRTZAGzLY"
   },
   "outputs": [],
   "source": [
    "# Si on prend les élèves qui ont exclusivement allemand / espagnol\n",
    "\n",
    "L = ['ESPAGNOL','ALLEMAND']\n",
    "elevs_['sel'] = elevs_['LV2'].apply(lambda x : 1 if x in L else 0)"
   ]
  },
  {
   "cell_type": "code",
   "execution_count": 29,
   "metadata": {
    "id": "JwKYxHiZNdtC"
   },
   "outputs": [],
   "source": [
    "elevs_ = elevs_[elevs_['sel'] == 1]"
   ]
  },
  {
   "cell_type": "code",
   "execution_count": 30,
   "metadata": {
    "colab": {
     "base_uri": "https://localhost:8080/"
    },
    "id": "DEXqhyHIOXT_",
    "outputId": "9462fd1a-7f97-463c-a8eb-a84309d36f25"
   },
   "outputs": [
    {
     "data": {
      "text/plain": [
       "4103994"
      ]
     },
     "execution_count": 30,
     "metadata": {},
     "output_type": "execute_result"
    }
   ],
   "source": [
    "len(elevs_) # Plus de 4 millions de lignes \"élève\" en tout."
   ]
  },
  {
   "cell_type": "markdown",
   "metadata": {
    "id": "tj7MTx-BWpFE"
   },
   "source": [
    "NB : Attention aux doublons.\n",
    "\n",
    "Chaque année, on retrouve sûrement en grande partie les élèves de l'année précédente qui n'ont pas changé de collège mais nous n'avons pas d'identifiant pour pouvoir les repérer et affiner notre analyse. Cependant, nos données allant de 2005 à 2018, il y a assez d'années pour pouvoir considérer que les lignes élèves sont suffisamment des personnes différentes."
   ]
  },
  {
   "cell_type": "markdown",
   "metadata": {
    "id": "8cQl84zjXFbl"
   },
   "source": [
    "On va regarder maintenant l'évolution des CSP+ mais cette fois-ci dans les langues. \n",
    "On va prendre par exemple les collèges où le taux de CSP+ en général n'a pas trop évolué sur la période considérée et regarder si le taux de CSP+ dans les LV2 allemand et espagnol a lui davantage évolué. "
   ]
  },
  {
   "cell_type": "code",
   "execution_count": 31,
   "metadata": {
    "id": "pvE1fVgLROhQ"
   },
   "outputs": [],
   "source": [
    "# Petit programme annexe : plus grand écart dans une liste \n",
    "def pgecart(L) :\n",
    "  L2 = sorted(L)\n",
    "  e = L2[len(L)-1] - L[0]\n",
    "  return e"
   ]
  },
  {
   "cell_type": "code",
   "execution_count": 32,
   "metadata": {
    "id": "v0VJAVV3Wrv6"
   },
   "outputs": [],
   "source": [
    "ecarts_csp = {}\n",
    "for etab in list(csp_annees.keys()) : \n",
    "  dico = csp_annees[etab]\n",
    "  values = list(dico.values())\n",
    "  ecarts_csp[etab] = pgecart(values)"
   ]
  },
  {
   "cell_type": "code",
   "execution_count": 33,
   "metadata": {
    "id": "S007rmT8SuO5"
   },
   "outputs": [],
   "source": [
    "# Moyenne du plus grand écart de CSP au sein des collèges \n",
    "ecartmoyen = sum(list(ecarts_csp.values()))/len(list(ecarts_csp.values())) "
   ]
  },
  {
   "cell_type": "code",
   "execution_count": 34,
   "metadata": {
    "id": "PzOcC8i2SvF3"
   },
   "outputs": [],
   "source": [
    "# On prend les collèges où le plus gros écart de taux de CSP+ entre les années est en dessous de la moyenne des collèges. \n",
    "constants = {}\n",
    "for etab in list(ecarts_csp.keys()) :\n",
    "  if ecarts_csp[etab] < ecartmoyen : \n",
    "    constants[etab] = csp_annees[etab]\n",
    "# ceux qui sont plutôt constants"
   ]
  },
  {
   "cell_type": "markdown",
   "metadata": {
    "id": "jWpnMf5bV4oL"
   },
   "source": [
    "Dans ces établissements, on regarde maintenant les évolutions de CSP en espagnol, allemand"
   ]
  },
  {
   "cell_type": "code",
   "execution_count": 35,
   "metadata": {
    "colab": {
     "base_uri": "https://localhost:8080/"
    },
    "id": "RkYbVjroVrw4",
    "outputId": "18fa4ef4-aaf6-4e35-d020-c65649ecc4f9"
   },
   "outputs": [
    {
     "data": {
      "text/plain": [
       "array(['ESPAGNOL', 'ALLEMAND'], dtype=object)"
      ]
     },
     "execution_count": 35,
     "metadata": {},
     "output_type": "execute_result"
    }
   ],
   "source": [
    "elevs_['LV2'].unique()"
   ]
  },
  {
   "cell_type": "code",
   "execution_count": 36,
   "metadata": {
    "id": "INYAOSoDXHoO"
   },
   "outputs": [],
   "source": [
    "del(elevs_['sel'])"
   ]
  },
  {
   "cell_type": "code",
   "execution_count": 37,
   "metadata": {
    "id": "OGEupwTXXO-O"
   },
   "outputs": [],
   "source": [
    "elevs_['sel2'] = elevs_['NUM_ETAB'].apply(lambda x : 1 if x in list(constants.keys()) else 0)"
   ]
  },
  {
   "cell_type": "code",
   "execution_count": 38,
   "metadata": {
    "id": "-QzLJ8hlZDjc"
   },
   "outputs": [],
   "source": [
    "elevs_ = elevs_[elevs_['sel2'] == 1]"
   ]
  },
  {
   "cell_type": "code",
   "execution_count": 39,
   "metadata": {
    "id": "ZqQosORub34K"
   },
   "outputs": [],
   "source": [
    "# On sélectionne les établissements avec des élèves qui font à la fois allemand et espagnol \n",
    "\n",
    "selection = []\n",
    "for etab in list(constants.keys()) :\n",
    "  df = elevs_[elevs_['NUM_ETAB'] == etab] \n",
    "  langues = list(df['LV2'].unique())\n",
    "  if len(langues) == 2 :\n",
    "    selection.append(etab)"
   ]
  },
  {
   "cell_type": "code",
   "execution_count": 40,
   "metadata": {
    "id": "H2nq2YgfWAuj"
   },
   "outputs": [],
   "source": [
    "# Pour chaque établissement qui remplit les critères précédents, \n",
    "#on prend les élèves de cet établissements, et pour chaque LV2 on regarde le taux de CSP dans la LV2 \n",
    "\n",
    "csp_langues = {}\n",
    "\n",
    "for etab in selection :\n",
    "  df = elevs_[elevs_['NUM_ETAB'] == etab]\n",
    "  df2 = df.groupby(['année', 'LV2']).mean().reset_index()\n",
    "  dico = {}\n",
    "  dfa = df2[df2['LV2'] == 'ALLEMAND'].reset_index()\n",
    "  dfe = df2[df2['LV2'] == 'ESPAGNOL'].reset_index()\n",
    "  dicoa = {}\n",
    "  dicoe = {}\n",
    "  for i in range(0,len(dfa)) :\n",
    "    dicoa[dfa['année'][i]] = dfa['csp+?'][i]\n",
    "  for j in range(0,len(dfe)) :\n",
    "    dicoe[dfe['année'][j]] = dfe['csp+?'][j]\n",
    "  dico['ALLEMAND'] = dicoa\n",
    "  dico['ESPAGNOL'] = dicoe\n",
    "  csp_langues[etab] = dico"
   ]
  },
  {
   "cell_type": "markdown",
   "metadata": {
    "id": "fbubflzYbA8t"
   },
   "source": [
    "On obtient alors le dictionnaire suivant : pour chaque établissement, on suit l'évolution du taux de CSP+ dans chacune des LV2 allemand et espagnol au cours des années. Nous allons comparer cette évolution avec l'évolution globale du taux de CSP+ dans chaque collège. "
   ]
  },
  {
   "cell_type": "code",
   "execution_count": 41,
   "metadata": {
    "colab": {
     "base_uri": "https://localhost:8080/"
    },
    "id": "3BOV-pUL9Cib",
    "outputId": "7d60632d-93e2-4184-83ce-bbfae97f3e61"
   },
   "outputs": [
    {
     "data": {
      "text/plain": [
       "654"
      ]
     },
     "execution_count": 41,
     "metadata": {},
     "output_type": "execute_result"
    }
   ],
   "source": [
    "len(csp_langues)"
   ]
  },
  {
   "cell_type": "code",
   "execution_count": 42,
   "metadata": {
    "id": "YZLiFrEiYixP"
   },
   "outputs": [],
   "source": [
    "# On rajoute le total \n",
    "for etab in csp_langues.keys() :\n",
    "  csp_langues[etab][\"total\"] = csp_annees[etab]"
   ]
  },
  {
   "cell_type": "code",
   "execution_count": null,
   "metadata": {
    "colab": {
     "base_uri": "https://localhost:8080/"
    },
    "id": "ASr5OLfNYxpp",
    "outputId": "23d8876d-abce-4cec-a66f-964fdc562cd2"
   },
   "outputs": [],
   "source": [
    "csp_langues"
   ]
  },
  {
   "cell_type": "markdown",
   "metadata": {
    "id": "7sVxZ2NelrFX"
   },
   "source": [
    "Calcul du plus grand écart en terme de différence de taux de CSP+ dans chaque langue"
   ]
  },
  {
   "cell_type": "code",
   "execution_count": 45,
   "metadata": {
    "id": "EA5f7-Bl-qV4"
   },
   "outputs": [],
   "source": [
    "ecarts_csp_langues = {}\n",
    "for etab in list(csp_langues.keys()) : \n",
    "  dico = csp_langues[etab]\n",
    "  ecarts_csp_langues[etab] = {}\n",
    "  for langue in dico.keys() :\n",
    "    annees = list(dico[langue].keys())\n",
    "    values = list(dico[langue].values())\n",
    "    ecarts_csp_langues[etab][langue] = pgecart(values)"
   ]
  },
  {
   "cell_type": "code",
   "execution_count": null,
   "metadata": {
    "colab": {
     "base_uri": "https://localhost:8080/"
    },
    "id": "Zl79AkqqnGaw",
    "outputId": "770eb14b-6722-478a-9454-dfeb572fb619"
   },
   "outputs": [],
   "source": [
    "ecarts_csp_langues "
   ]
  },
  {
   "cell_type": "code",
   "execution_count": 47,
   "metadata": {
    "id": "8prO1gUam7FZ"
   },
   "outputs": [],
   "source": [
    "# On rajoute le total \n",
    "for etab in ecarts_csp_langues.keys() :\n",
    "  ecarts_csp_langues[etab][\"total\"] = ecarts_csp[etab]"
   ]
  },
  {
   "cell_type": "markdown",
   "metadata": {
    "id": "nsNwMjnJprG_"
   },
   "source": [
    "On peut visualiser ici le plus grand écart en terme de taux de CSP+ au cours des années. "
   ]
  },
  {
   "cell_type": "markdown",
   "metadata": {
    "id": "DFvwaj5AWtkp"
   },
   "source": [
    "# Visualisation des évolutions des taux de CSP"
   ]
  },
  {
   "cell_type": "markdown",
   "metadata": {
    "id": "kK6u4aytWwNl"
   },
   "source": [
    "Visualisation des résultats des évolutions de CSP dans les langues / au total"
   ]
  },
  {
   "cell_type": "code",
   "execution_count": 49,
   "metadata": {
    "id": "ffE4684tXF6A"
   },
   "outputs": [],
   "source": [
    "# Visualisation pour le premier établissement par exemple \n",
    "\n",
    "etab = '0951992Z'"
   ]
  },
  {
   "cell_type": "code",
   "execution_count": 50,
   "metadata": {
    "colab": {
     "base_uri": "https://localhost:8080/",
     "height": 318
    },
    "id": "OsBc-AgRXQL7",
    "outputId": "1eba3278-a7ca-45d4-9c9e-987a7fb53c80"
   },
   "outputs": [
    {
     "data": {
      "text/plain": [
       "[<matplotlib.lines.Line2D at 0x7f0f2c8a58d0>,\n",
       " <matplotlib.lines.Line2D at 0x7f0f2c8a5d50>,\n",
       " <matplotlib.lines.Line2D at 0x7f0f2c8a5910>]"
      ]
     },
     "execution_count": 50,
     "metadata": {},
     "output_type": "execute_result"
    },
    {
     "data": {
      "image/png": "[encoded data removed]",
      "text/plain": [
       "<Figure size 432x288 with 1 Axes>"
      ]
     },
     "metadata": {
      "needs_background": "light"
     },
     "output_type": "display_data"
    }
   ],
   "source": [
    "plt.figure(2)\n",
    "x = np.array(list(csp_langues[etab]['ESPAGNOL'].keys()))\n",
    "y_esp = np.array(list(csp_langues[etab]['ESPAGNOL'].values()))\n",
    "y_all = np.array(list(csp_langues[etab]['ALLEMAND'].values()))\n",
    "y_tot = np.array(list(csp_langues[etab]['total'].values()))\n",
    "plt.plot(x, y_esp, x, y_all, x, y_tot)"
   ]
  },
  {
   "cell_type": "code",
   "execution_count": 51,
   "metadata": {
    "id": "iI-cJqmteFvo"
   },
   "outputs": [],
   "source": [
    "liste_all = []\n",
    "liste_esp = []\n",
    "liste_tot = []\n",
    "\n",
    "for etab in list(ecarts_csp_langues.keys()) :\n",
    "  liste_all.append(ecarts_csp_langues[etab]['ALLEMAND'])\n",
    "  liste_esp.append(ecarts_csp_langues[etab]['ESPAGNOL'])\n",
    "  liste_tot.append(ecarts_csp_langues[etab]['total'])"
   ]
  },
  {
   "cell_type": "code",
   "execution_count": 52,
   "metadata": {
    "colab": {
     "base_uri": "https://localhost:8080/"
    },
    "id": "mKWZbckiemFI",
    "outputId": "64928bc7-2669-49a4-eca5-083feed302a8"
   },
   "outputs": [
    {
     "data": {
      "text/plain": [
       "(654, 654, 654)"
      ]
     },
     "execution_count": 52,
     "metadata": {},
     "output_type": "execute_result"
    }
   ],
   "source": [
    "len(liste_all),len(liste_esp),len(liste_tot)"
   ]
  },
  {
   "cell_type": "markdown",
   "metadata": {
    "id": "_f6Wy9dcf85x"
   },
   "source": [
    "On visualise la distribution des plus grands écarts "
   ]
  },
  {
   "cell_type": "code",
   "execution_count": 53,
   "metadata": {
    "colab": {
     "base_uri": "https://localhost:8080/",
     "height": 265
    },
    "id": "bK1VcNGCer1f",
    "outputId": "acbc7b9d-02d6-43ce-ae8b-1903ea6aeb8f"
   },
   "outputs": [
    {
     "data": {
      "image/png": "[encoded data removed]",
      "text/plain": [
       "<Figure size 432x288 with 1 Axes>"
      ]
     },
     "metadata": {
      "needs_background": "light"
     },
     "output_type": "display_data"
    }
   ],
   "source": [
    "plt.hist(np.array(liste_all),label='Allemand')\n",
    "plt.hist(np.array(liste_esp), label = 'Espagnol')\n",
    "plt.hist(np.array(liste_tot), label = 'Total')\n",
    "plt.legend(loc='upper right') \n",
    "plt.show()"
   ]
  },
  {
   "cell_type": "code",
   "execution_count": 54,
   "metadata": {
    "colab": {
     "base_uri": "https://localhost:8080/",
     "height": 527
    },
    "id": "kCDclkl4gP3q",
    "outputId": "5c2c8e13-aa0a-4a9f-a881-9a54f2fbc45e"
   },
   "outputs": [
    {
     "data": {
      "image/png": "[encoded data removed]",
      "text/plain": [
       "<Figure size 1440x216 with 1 Axes>"
      ]
     },
     "metadata": {
      "needs_background": "light"
     },
     "output_type": "display_data"
    },
    {
     "data": {
      "image/png": "[encoded data removed]",
      "text/plain": [
       "<Figure size 1440x216 with 1 Axes>"
      ]
     },
     "metadata": {
      "needs_background": "light"
     },
     "output_type": "display_data"
    },
    {
     "data": {
      "image/png": "[encoded data removed]",
      "text/plain": [
       "<Figure size 1440x216 with 1 Axes>"
      ]
     },
     "metadata": {
      "needs_background": "light"
     },
     "output_type": "display_data"
    }
   ],
   "source": [
    "width = 5\n",
    "\n",
    "indices = np.arange(len(liste_all))\n",
    "fig = plt.figure(1, figsize=(20, 3))\n",
    "plt.bar(indices, liste_tot, width=width, \n",
    "        color='green', label='Total')\n",
    "plt.show()\n",
    "\n",
    "fig = plt.figure(1, figsize=(20, 3))\n",
    "plt.bar(indices, liste_all, width=width, \n",
    "        color='blue', label='Allemand')\n",
    "plt.show()\n",
    "\n",
    "fig = plt.figure(1, figsize=(20, 3))\n",
    "plt.bar(indices, liste_esp, width=width, \n",
    "        color='red', label='Espagnol')\n",
    "plt.show()"
   ]
  },
  {
   "cell_type": "markdown",
   "metadata": {
    "id": "b4f75wdbw43O"
   },
   "source": [
    "# Régressions sur les collèges aux taux de CSP+ plutôt constants"
   ]
  },
  {
   "cell_type": "code",
   "execution_count": 55,
   "metadata": {
    "id": "2B5y_M1cxFBh"
   },
   "outputs": [],
   "source": [
    "elevs = pd.concat([elev05,elev06,elev07,elev08,elev09,elev10,elev11,elev12,elev13,elev14,elev15,elev16,elev17,elev18],ignore_index = True)"
   ]
  },
  {
   "cell_type": "code",
   "execution_count": 56,
   "metadata": {
    "id": "HEkUfJeZxaCF"
   },
   "outputs": [],
   "source": [
    "elevs = elevs[['NUM_ETAB', 'csp+?', 'année','LV1', 'LV2','SEXE','MEFST6']]"
   ]
  },
  {
   "cell_type": "markdown",
   "metadata": {
    "id": "3AO--Fx7OtTt"
   },
   "source": [
    "## Calcul des résultats des collèges"
   ]
  },
  {
   "cell_type": "markdown",
   "metadata": {
    "id": "fcQQTmLPyOq7"
   },
   "source": [
    "On accède aux résulats des collèges "
   ]
  },
  {
   "cell_type": "code",
   "execution_count": 57,
   "metadata": {
    "id": "4xugJ0lmxrdt"
   },
   "outputs": [],
   "source": [
    "results = pd.read_csv('/content/drive/MyDrive/PDSS/bases_paris_college/fr-en-dnb-par-etablissement.csv' , delimiter = ';')"
   ]
  },
  {
   "cell_type": "code",
   "execution_count": 58,
   "metadata": {
    "id": "cdzrxdSxy8h3"
   },
   "outputs": [],
   "source": [
    "results['formule_classement'] = (1/2)*(results['Admis']+results['Admis']-results['Admis sans mention'])/results['Presents']"
   ]
  },
  {
   "cell_type": "code",
   "execution_count": 59,
   "metadata": {
    "id": "xBDEEduA0m38"
   },
   "outputs": [],
   "source": [
    "results = results[results[\"Type d'etablissement\"] == 'COLLEGE']\n",
    "results = results[results[\"Libellé région\"] == 'ILE-DE-FRANCE']"
   ]
  },
  {
   "cell_type": "code",
   "execution_count": 60,
   "metadata": {
    "id": "2O3QBgXd1aHg"
   },
   "outputs": [],
   "source": [
    "results_ = results[[\"Numero d'etablissement\", 'Session',\"formule_classement\"]]"
   ]
  },
  {
   "cell_type": "code",
   "execution_count": 61,
   "metadata": {
    "colab": {
     "base_uri": "https://localhost:8080/"
    },
    "id": "Nm_RqWle1Dza",
    "outputId": "96aac37e-b5ad-4faf-e167-62cde7e8cf74"
   },
   "outputs": [
    {
     "data": {
      "text/plain": [
       "Index(['Session', 'Numero d'etablissement', 'Type d'etablissement',\n",
       "       'Patronyme', 'Secteur d'enseignement', 'Commune', 'Libellé commune',\n",
       "       'Code département', 'Libellé département', 'Code académie',\n",
       "       'Libellé académie', 'Code région', 'Libellé région', 'Inscrits',\n",
       "       'Presents', 'Admis', 'Admis sans mention', 'Nombre_d_admis_Mention_AB',\n",
       "       'Admis Mention bien', 'Admis Mention très bien', 'Taux de réussite',\n",
       "       'formule_classement'],\n",
       "      dtype='object')"
      ]
     },
     "execution_count": 61,
     "metadata": {},
     "output_type": "execute_result"
    }
   ],
   "source": [
    "results.columns"
   ]
  },
  {
   "cell_type": "code",
   "execution_count": 62,
   "metadata": {
    "id": "mNE4cy-o0Z3P"
   },
   "outputs": [],
   "source": [
    "results_par_etab = {}\n",
    "for etab in list(results[\"Numero d'etablissement\"].unique()) :\n",
    "  results_par_etab[etab] = {}\n",
    "  df = results_[results_[\"Numero d'etablissement\"] == etab].reset_index()\n",
    "  for i in range(0,len(df)) :\n",
    "    results_par_etab[etab][df['Session'][i]] = df['formule_classement'][i]"
   ]
  },
  {
   "cell_type": "code",
   "execution_count": null,
   "metadata": {
    "colab": {
     "base_uri": "https://localhost:8080/"
    },
    "id": "SiMT0j2Q22NP",
    "outputId": "148ed6c2-8fcb-408a-c495-7afc24775cd3"
   },
   "outputs": [],
   "source": [
    "results_par_etab # Dictionnaire des résultats au brevet par année"
   ]
  },
  {
   "cell_type": "code",
   "execution_count": 64,
   "metadata": {
    "colab": {
     "base_uri": "https://localhost:8080/"
    },
    "id": "GBZIkRJn6E9S",
    "outputId": "de550024-6888-4013-fa37-0c756f1b4939"
   },
   "outputs": [
    {
     "data": {
      "text/plain": [
       "671"
      ]
     },
     "execution_count": 64,
     "metadata": {},
     "output_type": "execute_result"
    }
   ],
   "source": [
    "len(constants.keys())"
   ]
  },
  {
   "cell_type": "code",
   "execution_count": 65,
   "metadata": {
    "id": "6ztbDZiB7SHA"
   },
   "outputs": [],
   "source": [
    "elevs['sel3'] = elevs['NUM_ETAB'].apply(lambda x : 1 if x in list(constants.keys()) else 0)"
   ]
  },
  {
   "cell_type": "code",
   "execution_count": 66,
   "metadata": {
    "id": "WuTTe7b-7f9p"
   },
   "outputs": [],
   "source": [
    "elevs = elevs[elevs['sel3'] == 1][['NUM_ETAB','csp+?','année','LV1','LV2','SEXE','MEFST6']]"
   ]
  },
  {
   "cell_type": "code",
   "execution_count": 67,
   "metadata": {
    "colab": {
     "base_uri": "https://localhost:8080/"
    },
    "id": "C31DzPob7t2b",
    "outputId": "fe80f74d-38d7-43ed-d7b1-e155f106a9cf"
   },
   "outputs": [
    {
     "data": {
      "text/plain": [
       "Index(['NUM_ETAB', 'csp+?', 'année', 'LV1', 'LV2', 'SEXE', 'MEFST6'], dtype='object')"
      ]
     },
     "execution_count": 67,
     "metadata": {},
     "output_type": "execute_result"
    }
   ],
   "source": [
    "elevs.columns"
   ]
  },
  {
   "cell_type": "code",
   "execution_count": 68,
   "metadata": {
    "colab": {
     "base_uri": "https://localhost:8080/"
    },
    "id": "68fr4Q_0Ls_p",
    "outputId": "244eb96e-8567-406c-aeb5-262b6ebc3a92"
   },
   "outputs": [
    {
     "data": {
      "text/plain": [
       "2962789"
      ]
     },
     "execution_count": 68,
     "metadata": {},
     "output_type": "execute_result"
    }
   ],
   "source": [
    "len(elevs)"
   ]
  },
  {
   "cell_type": "markdown",
   "metadata": {
    "id": "Oa-gJnxYC-m5"
   },
   "source": [
    "## Régression pour l'année 2009"
   ]
  },
  {
   "cell_type": "markdown",
   "metadata": {
    "id": "hiuYBnAWPJZ0"
   },
   "source": [
    "### Préparation finale des bases et ajout des dernières variables"
   ]
  },
  {
   "cell_type": "code",
   "execution_count": 69,
   "metadata": {
    "id": "AkbaFFcX9EDC"
   },
   "outputs": [],
   "source": [
    "elevs2009 = elevs[elevs['année'] == '2009'].reset_index()"
   ]
  },
  {
   "cell_type": "code",
   "execution_count": 70,
   "metadata": {
    "colab": {
     "base_uri": "https://localhost:8080/"
    },
    "id": "GT1A2mBvLyNB",
    "outputId": "c4acf5fc-bab9-4f55-b692-440637beb1bf"
   },
   "outputs": [
    {
     "data": {
      "text/plain": [
       "186049"
      ]
     },
     "execution_count": 70,
     "metadata": {},
     "output_type": "execute_result"
    }
   ],
   "source": [
    "len(elevs2009)"
   ]
  },
  {
   "cell_type": "code",
   "execution_count": 71,
   "metadata": {
    "colab": {
     "base_uri": "https://localhost:8080/"
    },
    "id": "DVJs6NkKKery",
    "outputId": "6b47316b-e5e2-457f-a91d-9679cc1592d4"
   },
   "outputs": [
    {
     "data": {
      "text/plain": [
       "array([211500, 211600, 211100, 211200, 211400, 211900, 211700, 211800,\n",
       "       243300])"
      ]
     },
     "execution_count": 71,
     "metadata": {},
     "output_type": "execute_result"
    }
   ],
   "source": [
    "elevs2009['MEFST6'].unique()"
   ]
  },
  {
   "cell_type": "code",
   "execution_count": 72,
   "metadata": {
    "id": "Edf0VUuwJuGO"
   },
   "outputs": [],
   "source": [
    "elevs2009quatrieme = elevs2009[elevs2009['MEFST6'] == 211500].reset_index(drop = True)"
   ]
  },
  {
   "cell_type": "code",
   "execution_count": 73,
   "metadata": {
    "colab": {
     "base_uri": "https://localhost:8080/"
    },
    "id": "Sv7urDg2KtaA",
    "outputId": "6aef9f03-e45d-4d99-9b0c-a2ec7fccfbb0"
   },
   "outputs": [
    {
     "data": {
      "text/plain": [
       "86438"
      ]
     },
     "execution_count": 73,
     "metadata": {},
     "output_type": "execute_result"
    }
   ],
   "source": [
    "len(elevs2009quatrieme)"
   ]
  },
  {
   "cell_type": "code",
   "execution_count": 74,
   "metadata": {
    "id": "euzLmaIVK4A8"
   },
   "outputs": [],
   "source": [
    "# 1 si allemand 0 si espagnol\n",
    "elevs2009quatrieme['lv2'] = elevs2009quatrieme['LV2'].apply(lambda x : 1 if x == 'ALLEMAND' else 0)"
   ]
  },
  {
   "cell_type": "code",
   "execution_count": 75,
   "metadata": {
    "id": "RqtWS4TQLSFs"
   },
   "outputs": [],
   "source": [
    "X_train = elevs2009quatrieme.reset_index()"
   ]
  },
  {
   "cell_type": "code",
   "execution_count": 76,
   "metadata": {
    "id": "vVkh2Su1Nn6v"
   },
   "outputs": [],
   "source": [
    "L = ['ESPAGNOL','ALLEMAND']\n",
    "X_train['sel'] = X_train['LV2'].apply(lambda x : 1 if x in L else 0)"
   ]
  },
  {
   "cell_type": "code",
   "execution_count": 77,
   "metadata": {
    "id": "O0H_QUQWNrdO"
   },
   "outputs": [],
   "source": [
    "X_train = X_train[X_train['sel'] == 1].reset_index(drop = True)"
   ]
  },
  {
   "cell_type": "code",
   "execution_count": 78,
   "metadata": {
    "colab": {
     "base_uri": "https://localhost:8080/"
    },
    "id": "Br4SA-qPRJQ4",
    "outputId": "32fdc68d-032b-4cb1-fdc8-dcc0b8637c10"
   },
   "outputs": [
    {
     "data": {
      "text/plain": [
       "array(['2009'], dtype=object)"
      ]
     },
     "execution_count": 78,
     "metadata": {},
     "output_type": "execute_result"
    }
   ],
   "source": [
    "X_train['année'].unique()"
   ]
  },
  {
   "cell_type": "code",
   "execution_count": 79,
   "metadata": {
    "colab": {
     "base_uri": "https://localhost:8080/"
    },
    "id": "Mab093dT4Wtp",
    "outputId": "d4d12ee2-e545-4c00-e028-e11500fc64cc"
   },
   "outputs": [
    {
     "data": {
      "text/plain": [
       "77547"
      ]
     },
     "execution_count": 79,
     "metadata": {},
     "output_type": "execute_result"
    }
   ],
   "source": [
    "len(X_train)"
   ]
  },
  {
   "cell_type": "markdown",
   "metadata": {
    "id": "vL-S7dPJLhI1"
   },
   "source": [
    "Préparation de la colonne : taux de csp+ l'année précédente"
   ]
  },
  {
   "cell_type": "code",
   "execution_count": 80,
   "metadata": {
    "id": "jzqHdY88MIMi"
   },
   "outputs": [],
   "source": [
    "Lesp = []\n",
    "for i in range(0, len(X_train)) : \n",
    "  etab = X_train['NUM_ETAB'][i]\n",
    "  if etab in list(csp_langues.keys()) :\n",
    "    if '2008' in list(csp_langues[etab]['ESPAGNOL'].keys()) :\n",
    "      Lesp.append(csp_langues[etab]['ESPAGNOL']['2008'])\n",
    "    else :\n",
    "      Lesp.append(1000)\n",
    "  else :\n",
    "    Lesp.append(10000)"
   ]
  },
  {
   "cell_type": "code",
   "execution_count": 81,
   "metadata": {
    "id": "TXI01KKs3h0y"
   },
   "outputs": [],
   "source": [
    "Lall = []\n",
    "for i in range(0, len(X_train)) : \n",
    "  etab = X_train['NUM_ETAB'][i]\n",
    "  if etab in list(csp_langues.keys()) :\n",
    "    if '2008' in list(csp_langues[etab]['ALLEMAND'].keys()) :\n",
    "      Lall.append(csp_langues[etab]['ALLEMAND']['2008'])\n",
    "    else :\n",
    "      Lall.append(1000)\n",
    "  else :\n",
    "    Lall.append(10000)"
   ]
  },
  {
   "cell_type": "code",
   "execution_count": 82,
   "metadata": {
    "id": "IIGWom0YRFih"
   },
   "outputs": [],
   "source": [
    "X_train['tauxcspespp'] = Lesp\n",
    "X_train['tauxcspallp'] = Lall"
   ]
  },
  {
   "cell_type": "code",
   "execution_count": 83,
   "metadata": {
    "id": "psayFCGmSDzX"
   },
   "outputs": [],
   "source": [
    "X_train['sel4'] = X_train['tauxcspallp'].apply(lambda x : 1 if x < 2 else 0)\n",
    "X_train['sel5'] = X_train['tauxcspespp'].apply(lambda x : 1 if x < 2 else 0)"
   ]
  },
  {
   "cell_type": "code",
   "execution_count": 84,
   "metadata": {
    "id": "oI8neyLBSOmO"
   },
   "outputs": [],
   "source": [
    "X_train = X_train[X_train['sel4'] == 1].reset_index(drop = True)\n",
    "X_train = X_train[X_train['sel5'] == 1].reset_index(drop = True)"
   ]
  },
  {
   "cell_type": "code",
   "execution_count": 85,
   "metadata": {
    "id": "HEy3GHOiSz_O"
   },
   "outputs": [],
   "source": [
    "R = []\n",
    "for i in range(0, len(X_train)) :\n",
    "  etab = X_train['NUM_ETAB'][i]\n",
    "  R.append(results_par_etab[etab][2008])"
   ]
  },
  {
   "cell_type": "code",
   "execution_count": 86,
   "metadata": {
    "id": "cQgXEU6QTgYZ"
   },
   "outputs": [],
   "source": [
    "X_train['Résultats brevets année précédente'] = R"
   ]
  },
  {
   "cell_type": "code",
   "execution_count": 87,
   "metadata": {
    "id": "2s_2AK93VXif"
   },
   "outputs": [],
   "source": [
    "s1 = set(list(X_train['NUM_ETAB'].unique()))\n",
    "s2 = set(list(constants.keys()))"
   ]
  },
  {
   "cell_type": "code",
   "execution_count": 88,
   "metadata": {
    "colab": {
     "base_uri": "https://localhost:8080/"
    },
    "id": "-sI2FrWOVm7G",
    "outputId": "96881798-282f-4b02-91d5-814dc2b6d480"
   },
   "outputs": [
    {
     "data": {
      "text/plain": [
       "621"
      ]
     },
     "execution_count": 88,
     "metadata": {},
     "output_type": "execute_result"
    }
   ],
   "source": [
    "len(list(X_train['NUM_ETAB'].unique()))"
   ]
  },
  {
   "cell_type": "code",
   "execution_count": 89,
   "metadata": {
    "colab": {
     "base_uri": "https://localhost:8080/"
    },
    "id": "uvOBpW5fVZHP",
    "outputId": "4d83d84d-eccd-4245-b481-d1a89152e87b"
   },
   "outputs": [
    {
     "name": "stdout",
     "output_type": "stream",
     "text": [
      "621\n"
     ]
    }
   ],
   "source": [
    "print(len(s1&s2))"
   ]
  },
  {
   "cell_type": "markdown",
   "metadata": {
    "id": "ijXBcn6Jv5Hz"
   },
   "source": [
    "On rajoute aussi le taux global de CSP+ dans le collège l'année d'avant pour créer l'indice de dissimilarité.texte en italique"
   ]
  },
  {
   "cell_type": "code",
   "execution_count": 90,
   "metadata": {
    "id": "_5H1Pp8Nv9-c"
   },
   "outputs": [],
   "source": [
    "L = []\n",
    "for i in range(0, len(X_train)) : \n",
    "  etab = X_train['NUM_ETAB'][i]\n",
    "  L.append(csp_annees[etab]['2008'])"
   ]
  },
  {
   "cell_type": "code",
   "execution_count": 91,
   "metadata": {
    "id": "dyw1bACrwQvm"
   },
   "outputs": [],
   "source": [
    "X_train['Taux de CSP+ dans le collège année précédente'] = L"
   ]
  },
  {
   "cell_type": "markdown",
   "metadata": {
    "id": "cLb7itlLLWmT"
   },
   "source": [
    "Préparation de la régression"
   ]
  },
  {
   "cell_type": "code",
   "execution_count": 92,
   "metadata": {
    "id": "fIrI8w3zSvyc"
   },
   "outputs": [],
   "source": [
    "# Préparation des termes d'intéraction\n",
    "\n",
    "X_train[\"Taux de csp+ en espagnol l'année précédente au choix * CSP+\"] = X_train['tauxcspespp'] * X_train['csp+?']\n",
    "X_train[\"Taux de csp+ en allemand l'année précédente au choix * CSP+\"] = X_train['tauxcspallp'] * X_train['csp+?']\n",
    "X_train['Résultat collège * CSP+'] = X_train['Résultats brevets année précédente'] * X_train['csp+?']\n",
    "X_train[\"Dissimilarité\"] = (X_train['tauxcspallp'] - X_train['Taux de CSP+ dans le collège année précédente'])\n",
    "X_train[\"Dissimilarité * CSP+\"] = X_train[\"Dissimilarité\"] * X_train['csp+?']"
   ]
  },
  {
   "cell_type": "code",
   "execution_count": 93,
   "metadata": {
    "colab": {
     "base_uri": "https://localhost:8080/"
    },
    "id": "B1NlxDNZmE0S",
    "outputId": "8106caa2-993f-482b-fb22-70ee35736bca"
   },
   "outputs": [
    {
     "data": {
      "text/plain": [
       "array(['2009'], dtype=object)"
      ]
     },
     "execution_count": 93,
     "metadata": {},
     "output_type": "execute_result"
    }
   ],
   "source": [
    "X_train['année'].unique()"
   ]
  },
  {
   "cell_type": "code",
   "execution_count": 94,
   "metadata": {
    "id": "lb4-_0vJ-MsH"
   },
   "outputs": [],
   "source": [
    "Xtrain_esp = X_train[X_train['lv2'] == 0]\n",
    "Xtrain_all = X_train[X_train['lv2'] == 1]"
   ]
  },
  {
   "cell_type": "code",
   "execution_count": 95,
   "metadata": {
    "colab": {
     "base_uri": "https://localhost:8080/"
    },
    "id": "20o3UER2_qiO",
    "outputId": "500a4e0f-7d60-4a8f-ad3c-8554e237926d"
   },
   "outputs": [
    {
     "data": {
      "text/plain": [
       "8590"
      ]
     },
     "execution_count": 95,
     "metadata": {},
     "output_type": "execute_result"
    }
   ],
   "source": [
    "len(Xtrain_all)"
   ]
  },
  {
   "cell_type": "code",
   "execution_count": 96,
   "metadata": {
    "id": "n4J46zwQ-m-V"
   },
   "outputs": [],
   "source": [
    "Xtrain_all = Xtrain_all.sample(frac=5, replace=True, random_state=1)\n"
   ]
  },
  {
   "cell_type": "code",
   "execution_count": 97,
   "metadata": {
    "id": "Y6sPTb1R-8vU"
   },
   "outputs": [],
   "source": [
    "X_train = pd.concat([Xtrain_all,Xtrain_esp], ignore_index=True)"
   ]
  },
  {
   "cell_type": "markdown",
   "metadata": {
    "id": "SafInh7JPc6U"
   },
   "source": [
    "Cette étape était nécessaire pour égaliser les données allemands et espagnols dans la base afin d'éviter une prédiction chaotique"
   ]
  },
  {
   "cell_type": "markdown",
   "metadata": {
    "id": "neVwkdmnPumN"
   },
   "source": [
    "### Régression 2009"
   ]
  },
  {
   "cell_type": "code",
   "execution_count": 98,
   "metadata": {
    "id": "ZoZ_gMk2LC1o"
   },
   "outputs": [],
   "source": [
    "y_train = X_train['lv2']\n",
    "x_train = X_train[['Résultat collège * CSP+',\"Dissimilarité * CSP+\",\"Dissimilarité\",'tauxcspallp','csp+?','SEXE',\"Résultats brevets année précédente\"]]"
   ]
  },
  {
   "cell_type": "code",
   "execution_count": 99,
   "metadata": {
    "colab": {
     "base_uri": "https://localhost:8080/"
    },
    "id": "NSv6P6Axf1O7",
    "outputId": "518dcaec-932a-4513-b6e1-71a025f9d8bb"
   },
   "outputs": [
    {
     "name": "stderr",
     "output_type": "stream",
     "text": [
      "/usr/local/lib/python3.7/dist-packages/statsmodels/tsa/tsatools.py:117: FutureWarning: In a future version of pandas all arguments of concat except for the argument 'objs' will be keyword-only\n",
      "  x = pd.concat(x[::order], 1)\n"
     ]
    },
    {
     "name": "stdout",
     "output_type": "stream",
     "text": [
      "Optimization terminated successfully.\n",
      "         Current function value: 0.663182\n",
      "         Iterations 5\n",
      "                           Logit Regression Results                           \n",
      "==============================================================================\n",
      "Dep. Variable:                    lv2   No. Observations:               107979\n",
      "Model:                          Logit   Df Residuals:                   107971\n",
      "Method:                           MLE   Df Model:                            7\n",
      "Date:                Wed, 11 May 2022   Pseudo R-squ.:                 0.01326\n",
      "Time:                        08:31:22   Log-Likelihood:                -71610.\n",
      "converged:                       True   LL-Null:                       -72572.\n",
      "Covariance Type:            nonrobust   LLR p-value:                     0.000\n",
      "======================================================================================================\n",
      "                                         coef    std err          z      P>|z|      [0.025      0.975]\n",
      "------------------------------------------------------------------------------------------------------\n",
      "const                                 -1.2166      0.052    -23.311      0.000      -1.319      -1.114\n",
      "Résultat collège * CSP+                0.3346      0.097      3.452      0.001       0.145       0.525\n",
      "Dissimilarité * CSP+                   1.7644      0.131     13.503      0.000       1.508       2.020\n",
      "Dissimilarité                          1.0439      0.103     10.178      0.000       0.843       1.245\n",
      "tauxcspallp                           -0.9665      0.053    -18.072      0.000      -1.071      -0.862\n",
      "csp+?                                  0.1160      0.066      1.769      0.077      -0.012       0.244\n",
      "SEXE                                  -0.0171      0.013     -1.364      0.173      -0.042       0.007\n",
      "Résultats brevets année précédente     1.6056      0.098     16.375      0.000       1.413       1.798\n",
      "======================================================================================================\n"
     ]
    }
   ],
   "source": [
    "# modèle d'apprentissage sur l'année 2009 (élèves qui rentrent en 4e cette année et leur choix de langue)\n",
    "\n",
    "x_train = sm.add_constant(x_train)\n",
    "model = sm.Logit(y_train.astype(float), x_train.astype(float))\n",
    "results = model.fit()\n",
    "print(results.summary())"
   ]
  },
  {
   "cell_type": "markdown",
   "metadata": {
    "id": "GnxE8PzpP0tt"
   },
   "source": [
    "A partir de notre modèle de régression l'idée était de savoir si l'on pouvait prédir les langues choisies pour des années différentes. Nous avons choisi une année avant la réforme, 2014, et une autre après la réforme, 2017."
   ]
  },
  {
   "cell_type": "markdown",
   "metadata": {
    "id": "1ZOMZlYnVKUy"
   },
   "source": [
    "## Prédiction sur les élèves de 4e qui entrent en 2014 (avant la réforme)"
   ]
  },
  {
   "cell_type": "markdown",
   "metadata": {
    "id": "CkqnBhVvQHnk"
   },
   "source": [
    "### Préparation de la base 2014"
   ]
  },
  {
   "cell_type": "code",
   "execution_count": 100,
   "metadata": {
    "id": "jOqcOt68KABR"
   },
   "outputs": [],
   "source": [
    "# Prédiction sur les élèves de 4e qui entrent en 2014 \n",
    "\n",
    "elevs2014 = elevs[elevs['année'] == '2014']"
   ]
  },
  {
   "cell_type": "code",
   "execution_count": 101,
   "metadata": {
    "id": "EGOgIqT9LiN7"
   },
   "outputs": [],
   "source": [
    "elevs2014quatrieme = elevs2014[elevs2014['MEFST6'] == 211500]"
   ]
  },
  {
   "cell_type": "code",
   "execution_count": 102,
   "metadata": {
    "colab": {
     "base_uri": "https://localhost:8080/"
    },
    "id": "zYqQTQQeLru8",
    "outputId": "c47ad340-2bcf-40cf-83e2-b224a1112a8d"
   },
   "outputs": [
    {
     "name": "stderr",
     "output_type": "stream",
     "text": [
      "/usr/local/lib/python3.7/dist-packages/ipykernel_launcher.py:1: SettingWithCopyWarning: \n",
      "A value is trying to be set on a copy of a slice from a DataFrame.\n",
      "Try using .loc[row_indexer,col_indexer] = value instead\n",
      "\n",
      "See the caveats in the documentation: https://pandas.pydata.org/pandas-docs/stable/user_guide/indexing.html#returning-a-view-versus-a-copy\n",
      "  \"\"\"Entry point for launching an IPython kernel.\n"
     ]
    }
   ],
   "source": [
    "elevs2014quatrieme['lv2'] = elevs2014quatrieme['LV2'].apply(lambda x : 1 if x == 'ALLEMAND' else 0)"
   ]
  },
  {
   "cell_type": "code",
   "execution_count": 103,
   "metadata": {
    "id": "IQFQB93yLuws"
   },
   "outputs": [],
   "source": [
    "X_test = elevs2014quatrieme.reset_index()"
   ]
  },
  {
   "cell_type": "code",
   "execution_count": 104,
   "metadata": {
    "id": "sF1G8XmGMGZe"
   },
   "outputs": [],
   "source": [
    "L = ['ESPAGNOL','ALLEMAND']\n",
    "X_test['sel'] = X_test['LV2'].apply(lambda x : 1 if x in L else 0)"
   ]
  },
  {
   "cell_type": "code",
   "execution_count": 105,
   "metadata": {
    "id": "ul1nrrx-MOqK"
   },
   "outputs": [],
   "source": [
    "X_test = X_test[X_test['sel'] == 1].reset_index()"
   ]
  },
  {
   "cell_type": "code",
   "execution_count": 106,
   "metadata": {
    "id": "UiSLZAYkMV2r"
   },
   "outputs": [],
   "source": [
    "Lesp = []\n",
    "for i in range(0, len(X_test)) : \n",
    "  etab = X_test['NUM_ETAB'][i]\n",
    "  if etab in list(csp_langues.keys()) :\n",
    "    if '2013' in list(csp_langues[etab]['ESPAGNOL'].keys()) :\n",
    "      Lesp.append(csp_langues[etab]['ESPAGNOL']['2013'])\n",
    "    else :\n",
    "      Lesp.append(1000)\n",
    "  else :\n",
    "    Lesp.append(10000)"
   ]
  },
  {
   "cell_type": "code",
   "execution_count": 107,
   "metadata": {
    "id": "XseK5hGx5Ndn"
   },
   "outputs": [],
   "source": [
    "Lall = []\n",
    "for i in range(0, len(X_test)) : \n",
    "  etab = X_test['NUM_ETAB'][i]\n",
    "  if etab in list(csp_langues.keys()) :\n",
    "    if '2008' in list(csp_langues[etab]['ALLEMAND'].keys()) :\n",
    "      Lall.append(csp_langues[etab]['ALLEMAND']['2008'])\n",
    "    else :\n",
    "      Lall.append(1000)\n",
    "  else :\n",
    "    Lall.append(10000)"
   ]
  },
  {
   "cell_type": "code",
   "execution_count": 108,
   "metadata": {
    "id": "_JDEtSET5Ndn"
   },
   "outputs": [],
   "source": [
    "X_test['tauxcspespp'] = Lesp\n",
    "X_test['tauxcspallp'] = Lall"
   ]
  },
  {
   "cell_type": "code",
   "execution_count": 109,
   "metadata": {
    "id": "L-jJzmUz5Ndn"
   },
   "outputs": [],
   "source": [
    "X_test['sel4'] = X_test['tauxcspallp'].apply(lambda x : 1 if x < 2 else 0)\n",
    "X_test['sel5'] = X_test['tauxcspespp'].apply(lambda x : 1 if x < 2 else 0)"
   ]
  },
  {
   "cell_type": "code",
   "execution_count": 110,
   "metadata": {
    "id": "TCD2xXw6Mx-o"
   },
   "outputs": [],
   "source": [
    "X_test = X_test[X_test['sel4'] == 1].reset_index(drop = True)\n",
    "X_test = X_test[X_test['sel5'] == 1].reset_index(drop = True)"
   ]
  },
  {
   "cell_type": "code",
   "execution_count": 111,
   "metadata": {
    "id": "O9u7ehZeM4sn"
   },
   "outputs": [],
   "source": [
    "R = []\n",
    "for i in range(0, len(X_test)) :\n",
    "  etab = X_test['NUM_ETAB'][i]\n",
    "  R.append(results_par_etab[etab][2013])"
   ]
  },
  {
   "cell_type": "code",
   "execution_count": 112,
   "metadata": {
    "id": "ATMbnHYOM_lZ"
   },
   "outputs": [],
   "source": [
    "X_test['Résultats brevets année précédente'] = R"
   ]
  },
  {
   "cell_type": "code",
   "execution_count": 113,
   "metadata": {
    "colab": {
     "base_uri": "https://localhost:8080/"
    },
    "id": "qimm9DPdNEnm",
    "outputId": "7b5381b5-06d0-4ba8-fb19-afc636eba627"
   },
   "outputs": [
    {
     "data": {
      "text/plain": [
       "(621, 621)"
      ]
     },
     "execution_count": 113,
     "metadata": {},
     "output_type": "execute_result"
    }
   ],
   "source": [
    "s1 = set(list(X_test['NUM_ETAB'].unique()))\n",
    "s2 = set(list(constants.keys()))\n",
    "len(list(X_test['NUM_ETAB'].unique())),len(s1&s2)"
   ]
  },
  {
   "cell_type": "code",
   "execution_count": 114,
   "metadata": {
    "id": "CFBy6Vh7NSvw"
   },
   "outputs": [],
   "source": [
    "L = []\n",
    "for i in range(0, len(X_test)) : \n",
    "  etab = X_test['NUM_ETAB'][i]\n",
    "  L.append(csp_annees[etab]['2013'])"
   ]
  },
  {
   "cell_type": "code",
   "execution_count": 115,
   "metadata": {
    "id": "FeYkxmcQNYJw"
   },
   "outputs": [],
   "source": [
    "X_test['Taux de CSP+ dans le collège année précédente'] = L"
   ]
  },
  {
   "cell_type": "code",
   "execution_count": 116,
   "metadata": {
    "id": "ET8std4kNdlR"
   },
   "outputs": [],
   "source": [
    "# Préparation des termes d'intéraction\n",
    "\n",
    "X_test[\"Taux de csp+ en espagnol l'année précédente au choix * CSP+\"] = X_test['tauxcspespp'] * X_test['csp+?']\n",
    "X_test[\"Taux de csp+ en allemand l'année précédente au choix * CSP+\"] = X_test['tauxcspallp'] * X_test['csp+?']\n",
    "X_test['Résultat collège * CSP+'] = X_test['Résultats brevets année précédente'] * X_test['csp+?']\n",
    "X_test[\"Dissimilarité\"] = (X_test['tauxcspallp'] - X_test['Taux de CSP+ dans le collège année précédente']) + (X_test['tauxcspespp'] - X_test['Taux de CSP+ dans le collège année précédente'])\n",
    "X_test[\"Dissimilarité * CSP+\"] = X_test[\"Dissimilarité\"] * X_test['csp+?']"
   ]
  },
  {
   "cell_type": "code",
   "execution_count": 117,
   "metadata": {
    "id": "cnBmToGPNvOr"
   },
   "outputs": [],
   "source": [
    "y_test = X_test['lv2']\n",
    "x_test = X_test[['Résultat collège * CSP+',\"Dissimilarité * CSP+\",\"Dissimilarité\",'tauxcspallp','csp+?','SEXE',\"Résultats brevets année précédente\"]]"
   ]
  },
  {
   "cell_type": "code",
   "execution_count": 118,
   "metadata": {
    "colab": {
     "base_uri": "https://localhost:8080/"
    },
    "id": "R6Q1LUgEWZ1U",
    "outputId": "152e36df-d3ae-4e2c-ba2a-5409e50b8ee3"
   },
   "outputs": [
    {
     "name": "stderr",
     "output_type": "stream",
     "text": [
      "/usr/local/lib/python3.7/dist-packages/statsmodels/tsa/tsatools.py:117: FutureWarning: In a future version of pandas all arguments of concat except for the argument 'objs' will be keyword-only\n",
      "  x = pd.concat(x[::order], 1)\n"
     ]
    }
   ],
   "source": [
    "x_test = sm.add_constant(x_test)"
   ]
  },
  {
   "cell_type": "code",
   "execution_count": 119,
   "metadata": {
    "colab": {
     "base_uri": "https://localhost:8080/"
    },
    "id": "JodGL2qxmbHM",
    "outputId": "6597963c-548b-43a9-e303-75f66007fbb2"
   },
   "outputs": [
    {
     "data": {
      "text/plain": [
       "array(['2014'], dtype=object)"
      ]
     },
     "execution_count": 119,
     "metadata": {},
     "output_type": "execute_result"
    }
   ],
   "source": [
    "X_test['année'].unique()"
   ]
  },
  {
   "cell_type": "code",
   "execution_count": 120,
   "metadata": {
    "id": "4uhohFtpSam_"
   },
   "outputs": [],
   "source": [
    "ynewpred = results.predict(x_test)  # predict out of sample\n",
    "prediction = list(map(round, ynewpred))"
   ]
  },
  {
   "cell_type": "markdown",
   "metadata": {
    "id": "YG6UZNktQf6d"
   },
   "source": [
    "### Résultats prédiction 2014"
   ]
  },
  {
   "cell_type": "code",
   "execution_count": 121,
   "metadata": {
    "id": "-w19fuXMikqc"
   },
   "outputs": [],
   "source": [
    "from sklearn.metrics import (ConfusionMatrixDisplay, f1_score)\n",
    "import matplotlib.pyplot as plt"
   ]
  },
  {
   "cell_type": "code",
   "execution_count": 122,
   "metadata": {
    "colab": {
     "base_uri": "https://localhost:8080/",
     "height": 332
    },
    "id": "LbNRA8j9i2wo",
    "outputId": "96aae7f2-3d24-4e49-837e-7ec9e15397cf"
   },
   "outputs": [
    {
     "name": "stdout",
     "output_type": "stream",
     "text": [
      "Confusion Matrix : \n",
      "\n"
     ]
    },
    {
     "data": {
      "image/png": "[encoded data removed]",
      "text/plain": [
       "<Figure size 432x288 with 2 Axes>"
      ]
     },
     "metadata": {
      "needs_background": "light"
     },
     "output_type": "display_data"
    },
    {
     "name": "stdout",
     "output_type": "stream",
     "text": [
      "F1 score =  0.11273226088040904\n"
     ]
    }
   ],
   "source": [
    "print(\"Confusion Matrix : \\n\")\n",
    "ConfusionMatrixDisplay.from_predictions(y_test, prediction)\n",
    "\n",
    "plt.show()\n",
    "print('F1 score = ', f1_score(y_test, prediction))"
   ]
  },
  {
   "cell_type": "markdown",
   "metadata": {
    "id": "oSqwLmH4xO-u"
   },
   "source": [
    "## Prédiction après la réforme pour l'année 2017"
   ]
  },
  {
   "cell_type": "code",
   "execution_count": 123,
   "metadata": {
    "id": "6OBZn_6WxTyw"
   },
   "outputs": [],
   "source": [
    "# Prédiction sur les élèves de 4e qui entrent en 2014 \n",
    "\n",
    "elevs2017 = elevs[elevs['année'] == '2017']"
   ]
  },
  {
   "cell_type": "code",
   "execution_count": 124,
   "metadata": {
    "id": "y_Y4RKYCxTyw"
   },
   "outputs": [],
   "source": [
    "elevs2017quatrieme = elevs2017[elevs2017['MEFST6'] == 211500]"
   ]
  },
  {
   "cell_type": "code",
   "execution_count": 125,
   "metadata": {
    "colab": {
     "base_uri": "https://localhost:8080/"
    },
    "id": "E4ILt7szxTyw",
    "outputId": "8d5c9fb9-0048-4d0d-89d4-07aa17d71ba2"
   },
   "outputs": [
    {
     "name": "stderr",
     "output_type": "stream",
     "text": [
      "/usr/local/lib/python3.7/dist-packages/ipykernel_launcher.py:1: SettingWithCopyWarning: \n",
      "A value is trying to be set on a copy of a slice from a DataFrame.\n",
      "Try using .loc[row_indexer,col_indexer] = value instead\n",
      "\n",
      "See the caveats in the documentation: https://pandas.pydata.org/pandas-docs/stable/user_guide/indexing.html#returning-a-view-versus-a-copy\n",
      "  \"\"\"Entry point for launching an IPython kernel.\n"
     ]
    }
   ],
   "source": [
    "elevs2017quatrieme['lv2'] = elevs2017quatrieme['LV2'].apply(lambda x : 1 if x == 'ALLEMAND' else 0)"
   ]
  },
  {
   "cell_type": "code",
   "execution_count": 126,
   "metadata": {
    "id": "DO_apcRzxTyw"
   },
   "outputs": [],
   "source": [
    "X_test = elevs2017quatrieme.reset_index()"
   ]
  },
  {
   "cell_type": "code",
   "execution_count": 127,
   "metadata": {
    "id": "hD0Xouq7xTyx"
   },
   "outputs": [],
   "source": [
    "L = ['ESPAGNOL','ALLEMAND']\n",
    "X_test['sel'] = X_test['LV2'].apply(lambda x : 1 if x in L else 0)"
   ]
  },
  {
   "cell_type": "code",
   "execution_count": 128,
   "metadata": {
    "id": "mu-G0TFaxTyx"
   },
   "outputs": [],
   "source": [
    "X_test = X_test[X_test['sel'] == 1].reset_index()"
   ]
  },
  {
   "cell_type": "code",
   "execution_count": 129,
   "metadata": {
    "id": "hQRN_CMdxTyx"
   },
   "outputs": [],
   "source": [
    "Lesp = []\n",
    "for i in range(0, len(X_test)) : \n",
    "  etab = X_test['NUM_ETAB'][i]\n",
    "  if etab in list(csp_langues.keys()) :\n",
    "    if '2016' in list(csp_langues[etab]['ESPAGNOL'].keys()) :\n",
    "      Lesp.append(csp_langues[etab]['ESPAGNOL']['2016'])\n",
    "    else :\n",
    "      Lesp.append(1000)\n",
    "  else :\n",
    "    Lesp.append(10000)"
   ]
  },
  {
   "cell_type": "code",
   "execution_count": 130,
   "metadata": {
    "id": "nTsyhHeBBQQ7"
   },
   "outputs": [],
   "source": [
    "Lall = []\n",
    "for i in range(0, len(X_test)) : \n",
    "  etab = X_test['NUM_ETAB'][i]\n",
    "  if etab in list(csp_langues.keys()) :\n",
    "    if '2016' in list(csp_langues[etab]['ALLEMAND'].keys()) :\n",
    "      Lall.append(csp_langues[etab]['ALLEMAND']['2016'])\n",
    "    else :\n",
    "      Lall.append(1000)\n",
    "  else :\n",
    "    Lall.append(10000)"
   ]
  },
  {
   "cell_type": "code",
   "execution_count": 131,
   "metadata": {
    "id": "CCohFLNCBZig"
   },
   "outputs": [],
   "source": [
    "X_test['tauxcspespp'] = Lesp\n",
    "X_test['tauxcspallp'] = Lall"
   ]
  },
  {
   "cell_type": "code",
   "execution_count": 132,
   "metadata": {
    "id": "pJLypxMtBZig"
   },
   "outputs": [],
   "source": [
    "X_test['sel4'] = X_test['tauxcspallp'].apply(lambda x : 1 if x < 2 else 0)\n",
    "X_test['sel5'] = X_test['tauxcspespp'].apply(lambda x : 1 if x < 2 else 0)"
   ]
  },
  {
   "cell_type": "code",
   "execution_count": 133,
   "metadata": {
    "id": "I2rRsfYpBZih"
   },
   "outputs": [],
   "source": [
    "X_test = X_test[X_test['sel4'] == 1].reset_index(drop = True)\n",
    "X_test = X_test[X_test['sel5'] == 1].reset_index(drop = True)"
   ]
  },
  {
   "cell_type": "code",
   "execution_count": 134,
   "metadata": {
    "id": "iy6J7uRwxTyx"
   },
   "outputs": [],
   "source": [
    "R = []\n",
    "for i in range(0, len(X_test)) :\n",
    "  etab = X_test['NUM_ETAB'][i]\n",
    "  R.append(results_par_etab[etab][2016])"
   ]
  },
  {
   "cell_type": "code",
   "execution_count": 135,
   "metadata": {
    "id": "6Yfmu4LpxTyx"
   },
   "outputs": [],
   "source": [
    "X_test['Résultats brevets année précédente'] = R"
   ]
  },
  {
   "cell_type": "code",
   "execution_count": 140,
   "metadata": {
    "colab": {
     "base_uri": "https://localhost:8080/"
    },
    "id": "m8v0aHL4xTyy",
    "outputId": "44bcd564-b651-4576-e2f4-d4aa2edbe7a2"
   },
   "outputs": [
    {
     "data": {
      "text/plain": [
       "(569, 569)"
      ]
     },
     "execution_count": 140,
     "metadata": {},
     "output_type": "execute_result"
    }
   ],
   "source": [
    "s1 = set(list(X_test['NUM_ETAB'].unique()))\n",
    "s2 = set(list(constants.keys()))\n",
    "len(list(X_test['NUM_ETAB'].unique())),len(s1&s2)"
   ]
  },
  {
   "cell_type": "code",
   "execution_count": 141,
   "metadata": {
    "id": "mWwJljvoxTyy"
   },
   "outputs": [],
   "source": [
    "L = []\n",
    "for i in range(0, len(X_test)) : \n",
    "  etab = X_test['NUM_ETAB'][i]\n",
    "  L.append(csp_annees[etab]['2016'])"
   ]
  },
  {
   "cell_type": "code",
   "execution_count": 142,
   "metadata": {
    "id": "9ZAuJja8xTyy"
   },
   "outputs": [],
   "source": [
    "X_test['Taux de CSP+ dans le collège année précédente'] = L"
   ]
  },
  {
   "cell_type": "code",
   "execution_count": 143,
   "metadata": {
    "id": "E_Dgoz3YxTyy"
   },
   "outputs": [],
   "source": [
    "# Préparation des termes d'intéraction\n",
    "\n",
    "X_test[\"Taux de csp+ en espagnol l'année précédente au choix * CSP+\"] = X_test['tauxcspespp'] * X_test['csp+?']\n",
    "X_test[\"Taux de csp+ en allemand l'année précédente au choix * CSP+\"] = X_test['tauxcspallp'] * X_test['csp+?']\n",
    "X_test['Résultat collège * CSP+'] = X_test['Résultats brevets année précédente'] * X_test['csp+?']\n",
    "X_test[\"Dissimilarité\"] = (X_test['tauxcspallp'] - X_test['Taux de CSP+ dans le collège année précédente']) + (X_test['tauxcspespp'] - X_test['Taux de CSP+ dans le collège année précédente'])\n",
    "X_test[\"Dissimilarité * CSP+\"] = X_test[\"Dissimilarité\"] * X_test['csp+?']"
   ]
  },
  {
   "cell_type": "code",
   "execution_count": 148,
   "metadata": {
    "id": "3UtDeatlxTyy"
   },
   "outputs": [],
   "source": [
    "y_test = X_test['lv2']\n",
    "x_test = X_test[['Résultat collège * CSP+',\"Dissimilarité * CSP+\",\"Dissimilarité\",'tauxcspallp','csp+?','SEXE',\"Résultats brevets année précédente\"]]"
   ]
  },
  {
   "cell_type": "code",
   "execution_count": 149,
   "metadata": {
    "colab": {
     "base_uri": "https://localhost:8080/"
    },
    "id": "-J0hXCpdxTyy",
    "outputId": "0f3d9c49-399c-4794-c925-91f27cfa7c29"
   },
   "outputs": [
    {
     "name": "stderr",
     "output_type": "stream",
     "text": [
      "/usr/local/lib/python3.7/dist-packages/statsmodels/tsa/tsatools.py:117: FutureWarning: In a future version of pandas all arguments of concat except for the argument 'objs' will be keyword-only\n",
      "  x = pd.concat(x[::order], 1)\n"
     ]
    }
   ],
   "source": [
    "x_test = sm.add_constant(x_test)"
   ]
  },
  {
   "cell_type": "code",
   "execution_count": 150,
   "metadata": {
    "colab": {
     "base_uri": "https://localhost:8080/"
    },
    "id": "xLcdWTxXxTyy",
    "outputId": "e2d6d0a7-1d5a-44a8-c96b-e84c7ce79849"
   },
   "outputs": [
    {
     "data": {
      "text/plain": [
       "array(['2017'], dtype=object)"
      ]
     },
     "execution_count": 150,
     "metadata": {},
     "output_type": "execute_result"
    }
   ],
   "source": [
    "X_test['année'].unique()"
   ]
  },
  {
   "cell_type": "code",
   "execution_count": 151,
   "metadata": {
    "id": "uqHcg_AkxTyz"
   },
   "outputs": [],
   "source": [
    "ynewpred = results.predict(x_test)  # predict out of sample\n",
    "prediction = list(map(round, ynewpred))"
   ]
  },
  {
   "cell_type": "code",
   "execution_count": null,
   "metadata": {
    "id": "mVQ_-0euxTyz"
   },
   "outputs": [],
   "source": [
    "from sklearn.metrics import (confusion_matrix, f1_score)"
   ]
  },
  {
   "cell_type": "code",
   "execution_count": 153,
   "metadata": {
    "colab": {
     "base_uri": "https://localhost:8080/",
     "height": 332
    },
    "id": "XXfK8FeCxTyz",
    "outputId": "f556bccf-769e-475c-b334-e3da84607d48"
   },
   "outputs": [
    {
     "name": "stdout",
     "output_type": "stream",
     "text": [
      "Confusion Matrix : \n",
      "\n"
     ]
    },
    {
     "data": {
      "image/png": "[encoded data removed]",
      "text/plain": [
       "<Figure size 432x288 with 2 Axes>"
      ]
     },
     "metadata": {
      "needs_background": "light"
     },
     "output_type": "display_data"
    },
    {
     "name": "stdout",
     "output_type": "stream",
     "text": [
      "F1 score =  0.1648609975470155\n"
     ]
    }
   ],
   "source": [
    "print(\"Confusion Matrix : \\n\")\n",
    "ConfusionMatrixDisplay.from_predictions(y_test, prediction)\n",
    "\n",
    "plt.show()\n",
    "print('F1 score = ', f1_score(y_test, prediction))"
   ]
  },
  {
   "cell_type": "markdown",
   "metadata": {
    "id": "gev0rCFgRngq"
   },
   "source": [
    "Les résultats obtenus ne sont pas satisfaisants mais marquent le fait qu'il nous a manqués des variables explicatives déterminantes du choix d'une langue."
   ]
  }
 ],
 "metadata": {
  "colab": {
   "collapsed_sections": [
    "ZUks4s-g3DZ0",
    "aojr7KEI3F5V",
    "r3zZ7pTYkzFR",
    "DFvwaj5AWtkp"
   ],
   "name": "CSP années.ipynb",
   "provenance": [],
   "toc_visible": true
  },
  "kernelspec": {
   "display_name": "Python 3",
   "language": "python",
   "name": "python3"
  },
  "language_info": {
   "codemirror_mode": {
    "name": "ipython",
    "version": 3
   },
   "file_extension": ".py",
   "mimetype": "text/x-python",
   "name": "python",
   "nbconvert_exporter": "python",
   "pygments_lexer": "ipython3",
   "version": "3.7.4"
  }
 },
 "nbformat": 4,
 "nbformat_minor": 1
}
